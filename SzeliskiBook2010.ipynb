{
 "cells": [
  {
   "cell_type": "code",
   "execution_count": 1,
   "metadata": {},
   "outputs": [],
   "source": [
    "import numpy as np"
   ]
  },
  {
   "cell_type": "markdown",
   "metadata": {},
   "source": [
    "# Chapter 2-- Image Formation"
   ]
  },
  {
   "cell_type": "code",
   "execution_count": null,
   "metadata": {},
   "outputs": [],
   "source": [
    "def two_d_point(x,y):\n",
    "    return np.array([x,y])\n",
    "\n",
    "def homogeneous_to_inhomogeneous(x,y,w):\n",
    "    augmented_vector=np.array([x,y,1])\n",
    "    return w*augmented_vector\n",
    "\n",
    "def point_on_two_d_line(x,y,a,b,c):\n",
    "    x=np.array([x,y,1])\n",
    "    l=np.array([a,b,c])\n",
    "    return np.dot(x,l)\n",
    "\n",
    "def normalize_l(l):\n",
    "    norm=np.sqrt(np.dot(l,l))\n",
    "    l_normalized=l/norm\n",
    "    return l_normalized\n",
    "\n",
    "def intersection_of_two_lines(a_1,b_1,c_1,a_2,b_2,c_2):\n",
    "    first_line=np.array([a_1,b_1,c_1])\n",
    "    second_line=np.array([a_2,b_2,c_2])\n",
    "    x=np.cross(first_line,second_line)\n",
    "    return x\n",
    "\n",
    "def joining_two_points(x_1,y_1,x_2,y_2):\n",
    "    first_point=np.array([x_1,y_1,1])\n",
    "    second_point=np.array([x_2,y_2,1])\n",
    "    l=np.cross(first_point,second_point)\n",
    "    return l\n",
    "\n",
    "\n",
    "    "
   ]
  }
 ],
 "metadata": {
  "kernelspec": {
   "display_name": "Python 3",
   "language": "python",
   "name": "python3"
  },
  "language_info": {
   "codemirror_mode": {
    "name": "ipython",
    "version": 3
   },
   "file_extension": ".py",
   "mimetype": "text/x-python",
   "name": "python",
   "nbconvert_exporter": "python",
   "pygments_lexer": "ipython3",
   "version": "3.7.7"
  }
 },
 "nbformat": 4,
 "nbformat_minor": 4
}
